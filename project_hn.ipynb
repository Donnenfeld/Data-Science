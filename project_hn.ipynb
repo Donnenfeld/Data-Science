{
 "cells": [
  {
   "cell_type": "markdown",
   "id": "e86dda18",
   "metadata": {},
   "source": [
    "_The site Hacker News is a forum where people post all kinds of questions and general posts. We would like to determine when is the best time to post a question on the Hacker News website and get the most responses. We will open a file that has all the data on the posts of Hacker News,asign it to the variable \"hn\" and take it from there._"
   ]
  },
  {
   "cell_type": "code",
   "execution_count": 2,
   "id": "a76736c7",
   "metadata": {},
   "outputs": [
    {
     "name": "stdout",
     "output_type": "stream",
     "text": [
      "[['id', 'title', 'url', 'num_points', 'num_comments', 'author', 'created_at'], ['12224879', 'Interactive Dynamic Video', 'http://www.interactivedynamicvideo.com/', '386', '52', 'ne0phyte', '8/4/2016 11:52'], ['10975351', 'How to Use Open Source and Shut the Fuck Up at the Same Time', 'http://hueniverse.com/2016/01/26/how-to-use-open-source-and-shut-the-fuck-up-at-the-same-time/', '39', '10', 'josep2', '1/26/2016 19:30'], ['11964716', \"Florida DJs May Face Felony for April Fools' Water Joke\", 'http://www.thewire.com/entertainment/2013/04/florida-djs-april-fools-water-joke/63798/', '2', '1', 'vezycash', '6/23/2016 22:20'], ['11919867', 'Technology ventures: From Idea to Enterprise', 'https://www.amazon.com/Technology-Ventures-Enterprise-Thomas-Byers/dp/0073523429', '3', '1', 'hswarna', '6/17/2016 0:01']]\n"
     ]
    }
   ],
   "source": [
    " \n",
    "from csv import reader\n",
    "opened_file = open('hacker_news.csv')\n",
    "read_file = reader(opened_file)\n",
    "hn = list(read_file)\n"
   ]
  },
  {
   "cell_type": "code",
   "execution_count": 3,
   "id": "44c435cb",
   "metadata": {},
   "outputs": [
    {
     "name": "stdout",
     "output_type": "stream",
     "text": [
      "['id', 'title', 'url', 'num_points', 'num_comments', 'author', 'created_at']\n"
     ]
    }
   ],
   "source": [
    "#Let's first assign the header to a seperate variable and work only with the rows of data. \n",
    "headers = hn[0]\n",
    "print (headers)"
   ]
  },
  {
   "cell_type": "code",
   "execution_count": 4,
   "id": "4e58321a",
   "metadata": {},
   "outputs": [
    {
     "name": "stdout",
     "output_type": "stream",
     "text": [
      "[['12224879', 'Interactive Dynamic Video', 'http://www.interactivedynamicvideo.com/', '386', '52', 'ne0phyte', '8/4/2016 11:52'], ['10975351', 'How to Use Open Source and Shut the Fuck Up at the Same Time', 'http://hueniverse.com/2016/01/26/how-to-use-open-source-and-shut-the-fuck-up-at-the-same-time/', '39', '10', 'josep2', '1/26/2016 19:30'], ['11964716', \"Florida DJs May Face Felony for April Fools' Water Joke\", 'http://www.thewire.com/entertainment/2013/04/florida-djs-april-fools-water-joke/63798/', '2', '1', 'vezycash', '6/23/2016 22:20'], ['11919867', 'Technology ventures: From Idea to Enterprise', 'https://www.amazon.com/Technology-Ventures-Enterprise-Thomas-Byers/dp/0073523429', '3', '1', 'hswarna', '6/17/2016 0:01'], ['10301696', 'Note by Note: The Making of Steinway L1037 (2007)', 'http://www.nytimes.com/2007/11/07/movies/07stein.html?_r=0', '8', '2', 'walterbell', '9/30/2015 4:12']]\n"
     ]
    }
   ],
   "source": [
    "hn = hn[1:]\n",
    "print (hn[:5])"
   ]
  },
  {
   "cell_type": "markdown",
   "id": "346a3d70",
   "metadata": {},
   "source": [
    "_There are different types of posts in Hacker News.There are those that ask questions and start with Ask HN. We are focused on the posts that ask questions, and that's the data we will work with. \n",
    "We will first create seperate lists of posts and divide them between posts that start with Show HN; posts that start with Ask HN; and all others._\n"
   ]
  },
  {
   "cell_type": "code",
   "execution_count": 5,
   "id": "2ede5497",
   "metadata": {},
   "outputs": [
    {
     "name": "stdout",
     "output_type": "stream",
     "text": [
      "[['12296411', 'Ask HN: How to improve my personal website?', '', '2', '6', 'ahmedbaracat', '8/16/2016 9:55'], ['10610020', 'Ask HN: Am I the only one outraged by Twitter shutting down share counts?', '', '28', '29', 'tkfx', '11/22/2015 13:43'], ['11610310', 'Ask HN: Aby recent changes to CSS that broke mobile?', '', '1', '1', 'polskibus', '5/2/2016 10:14'], ['12210105', 'Ask HN: Looking for Employee #3 How do I do it?', '', '1', '3', 'sph130', '8/2/2016 14:20'], ['10394168', 'Ask HN: Someone offered to buy my browser extension from me. What now?', '', '28', '17', 'roykolak', '10/15/2015 16:38']]\n"
     ]
    }
   ],
   "source": [
    "ask_posts = []\n",
    "show_posts = []\n",
    "other_posts = []\n",
    "\n",
    "for row in hn:\n",
    "    title = row[1].lower()\n",
    "    if title.startswith('ask hn'):\n",
    "        ask_posts.append(row)\n",
    "    elif title.lower().startswith('show hn'):\n",
    "        show_posts.append(row)\n",
    "    else:\n",
    "        other_posts.append(row)\n",
    "print (ask_posts[:5])\n",
    "\n"
   ]
  },
  {
   "cell_type": "code",
   "execution_count": 6,
   "id": "c95a7000",
   "metadata": {},
   "outputs": [
    {
     "name": "stdout",
     "output_type": "stream",
     "text": [
      "24483\n"
     ]
    }
   ],
   "source": [
    "#We would like to know which type of posts garners the most comments. \n",
    "#let's see how many comments are there for all the Ask Posts\n",
    "total_ask_comments = 0\n",
    "for row in ask_posts:\n",
    "    comments = int(row[4])\n",
    "    total_ask_comments += comments\n",
    "print (total_ask_comments)   \n",
    "    "
   ]
  },
  {
   "cell_type": "code",
   "execution_count": 7,
   "id": "8e2a9df8",
   "metadata": {},
   "outputs": [
    {
     "name": "stdout",
     "output_type": "stream",
     "text": [
      "11988\n"
     ]
    }
   ],
   "source": [
    "#Now let's see how many comments are there for the Show HN posts. \n",
    "total_show_comments = 0\n",
    "for row in show_posts:\n",
    "    comments = int(row[4])\n",
    "    total_show_comments += comments\n",
    "print (total_show_comments)   "
   ]
  },
  {
   "cell_type": "code",
   "execution_count": 8,
   "id": "2c2b4ccf",
   "metadata": {},
   "outputs": [
    {
     "name": "stdout",
     "output_type": "stream",
     "text": [
      "10.31669535283993\n",
      "14.038417431192661\n"
     ]
    }
   ],
   "source": [
    "#Let's see which type of posts has the most comments per post. \n",
    "avg_show_comments = total_show_comments / len(show_posts)\n",
    "avg_ask_comments = total_ask_comments / len(ask_posts)\n",
    "print (avg_show_comments)\n",
    "print (avg_ask_comments)"
   ]
  },
  {
   "cell_type": "code",
   "execution_count": 9,
   "id": "13b4b35f",
   "metadata": {},
   "outputs": [
    {
     "name": "stdout",
     "output_type": "stream",
     "text": [
      "{'09': 45, '13': 85, '10': 59, '14': 107, '16': 108, '23': 68, '12': 73, '17': 100, '15': 116, '21': 109, '20': 80, '02': 58, '18': 109, '03': 54, '05': 46, '19': 110, '01': 60, '22': 71, '08': 48, '04': 47, '00': 55, '06': 44, '07': 34, '11': 58}\n",
      "{'09': 251, '13': 1253, '10': 793, '14': 1416, '16': 1814, '23': 543, '12': 687, '17': 1146, '15': 4477, '21': 1745, '20': 1722, '02': 1381, '18': 1439, '03': 421, '05': 464, '19': 1188, '01': 683, '22': 479, '08': 492, '04': 337, '00': 447, '06': 397, '07': 267, '11': 641}\n"
     ]
    }
   ],
   "source": [
    "#We can see that the Ask HN posts have 40% more comments. \n",
    "#Now let's see at which time of the day posts tend to attract the most comments. \n",
    "#We will first determine two facts: which hour of the day has how many posts, and how many comments the posts in each hour get. \n",
    "\n",
    "import datetime as dt\n",
    "result_list = []\n",
    "for row in ask_posts:\n",
    "    created_at = row[6]\n",
    "    num_comments = int(row[4])\n",
    "    a_list = [created_at, num_comments]\n",
    "    result_list.append(a_list)\n",
    "\n",
    "counts_by_hour = {}\n",
    "comments_by_hour = {}\n",
    "\n",
    "for row in result_list:\n",
    "    created_at = row[0]\n",
    "    comments = row[1]\n",
    "    date_obj = dt.datetime.strptime(created_at, '%m/%d/%Y %H:%M')\n",
    "    hour = date_obj.strftime('%H')\n",
    "    if hour not in counts_by_hour:\n",
    "        counts_by_hour[hour] = 1\n",
    "        comments_by_hour[hour] = comments\n",
    "    else:\n",
    "        counts_by_hour[hour] += 1\n",
    "        comments_by_hour[hour] += comments\n",
    "    \n",
    "print(counts_by_hour)\n",
    "print (comments_by_hour)"
   ]
  },
  {
   "cell_type": "code",
   "execution_count": 10,
   "id": "3f537536",
   "metadata": {},
   "outputs": [
    {
     "name": "stdout",
     "output_type": "stream",
     "text": [
      "[['09', 5.5777777777777775], ['13', 14.741176470588234], ['10', 13.440677966101696], ['14', 13.233644859813085], ['16', 16.796296296296298], ['23', 7.985294117647059], ['12', 9.41095890410959], ['17', 11.46], ['15', 38.5948275862069], ['21', 16.009174311926607], ['20', 21.525], ['02', 23.810344827586206], ['18', 13.20183486238532], ['03', 7.796296296296297], ['05', 10.08695652173913], ['19', 10.8], ['01', 11.383333333333333], ['22', 6.746478873239437], ['08', 10.25], ['04', 7.170212765957447], ['00', 8.127272727272727], ['06', 9.022727272727273], ['07', 7.852941176470588], ['11', 11.051724137931034]]\n"
     ]
    }
   ],
   "source": [
    "#we will now divide the comments of each hour, by the posts of each hour, to determine the average number of comments per post in each hour. \n",
    "result = []\n",
    "for hour in comments_by_hour:\n",
    "    \n",
    "    avg_by_hour = comments_by_hour[hour]/counts_by_hour[hour]\n",
    "    result.append([hour, comments_by_hour[hour]/counts_by_hour[hour]])\n",
    "print (result)"
   ]
  },
  {
   "cell_type": "code",
   "execution_count": 11,
   "id": "6c36789c",
   "metadata": {},
   "outputs": [
    {
     "name": "stdout",
     "output_type": "stream",
     "text": [
      "[[5.5777777777777775, '09'], [14.741176470588234, '13'], [13.440677966101696, '10'], [13.233644859813085, '14'], [16.796296296296298, '16'], [7.985294117647059, '23'], [9.41095890410959, '12'], [11.46, '17'], [38.5948275862069, '15'], [16.009174311926607, '21'], [21.525, '20'], [23.810344827586206, '02'], [13.20183486238532, '18'], [7.796296296296297, '03'], [10.08695652173913, '05'], [10.8, '19'], [11.383333333333333, '01'], [6.746478873239437, '22'], [10.25, '08'], [7.170212765957447, '04'], [8.127272727272727, '00'], [9.022727272727273, '06'], [7.852941176470588, '07'], [11.051724137931034, '11']]\n"
     ]
    }
   ],
   "source": [
    "#We now have each hour and their average number of comments per post. \n",
    "#Let's exchange the order of the dictionary, so that we can sort it out from top to bottom. \n",
    "swap_avg_by_hour = []\n",
    "for row in result:\n",
    "    swap_avg_by_hour.append([row[1], row[0]])\n",
    "print (swap_avg_by_hour)"
   ]
  },
  {
   "cell_type": "code",
   "execution_count": 12,
   "id": "5e0a4473",
   "metadata": {},
   "outputs": [],
   "source": [
    "sorted_swap = sorted(swap_avg_by_hour, reverse=True)"
   ]
  },
  {
   "cell_type": "code",
   "execution_count": 13,
   "id": "57b5cc1c",
   "metadata": {},
   "outputs": [
    {
     "name": "stdout",
     "output_type": "stream",
     "text": [
      "Top 5 Hours For Ask Post Comments\n",
      "03:00 PM: 38.59 average comments per post\n",
      "02:00 AM: 23.81 average comments per post\n",
      "08:00 PM: 21.52 average comments per post\n",
      "04:00 PM: 16.80 average comments per post\n",
      "09:00 PM: 16.01 average comments per post\n",
      "01:00 PM: 14.74 average comments per post\n",
      "10:00 AM: 13.44 average comments per post\n",
      "02:00 PM: 13.23 average comments per post\n",
      "06:00 PM: 13.20 average comments per post\n",
      "05:00 PM: 11.46 average comments per post\n",
      "01:00 AM: 11.38 average comments per post\n",
      "11:00 AM: 11.05 average comments per post\n",
      "07:00 PM: 10.80 average comments per post\n",
      "08:00 AM: 10.25 average comments per post\n",
      "05:00 AM: 10.09 average comments per post\n",
      "12:00 PM: 9.41 average comments per post\n",
      "06:00 AM: 9.02 average comments per post\n",
      "12:00 AM: 8.13 average comments per post\n",
      "11:00 PM: 7.99 average comments per post\n",
      "07:00 AM: 7.85 average comments per post\n",
      "03:00 AM: 7.80 average comments per post\n",
      "04:00 AM: 7.17 average comments per post\n",
      "10:00 PM: 6.75 average comments per post\n",
      "09:00 AM: 5.58 average comments per post\n"
     ]
    }
   ],
   "source": [
    "#Let's print the data in order, so that we can see in order which hour garners the most comments. \n",
    "print ('Top 5 Hours For Ask Post Comments')\n",
    "for item in sorted_swap:\n",
    "    avg = item[0]\n",
    "    hour = item[1]\n",
    "    hour = dt.datetime.strptime(hour, '%H')\n",
    "    hour = dt.datetime.strftime(hour, '%I:%M %p')\n",
    "    string = \"{time}: {avg:.2f} average comments per post\".format(time=hour, avg=avg)\n",
    "    print (string)"
   ]
  },
  {
   "cell_type": "markdown",
   "id": "a2f424ec",
   "metadata": {},
   "source": [
    "_We can see in the results that 3:00 pm is the best time to post a question on Hacker News, followed by 2:00am. The results are pretty interesting, given that 2 in the morning is the second best time to receive comments for your posts.Overall we can see that the afternoon from 1-9 tends to be a much better time to get comments than other parts of the day._ "
   ]
  },
  {
   "cell_type": "code",
   "execution_count": null,
   "id": "af1377d3",
   "metadata": {},
   "outputs": [],
   "source": []
  }
 ],
 "metadata": {
  "kernelspec": {
   "display_name": "Python 3 (ipykernel)",
   "language": "python",
   "name": "python3"
  },
  "language_info": {
   "codemirror_mode": {
    "name": "ipython",
    "version": 3
   },
   "file_extension": ".py",
   "mimetype": "text/x-python",
   "name": "python",
   "nbconvert_exporter": "python",
   "pygments_lexer": "ipython3",
   "version": "3.11.5"
  }
 },
 "nbformat": 4,
 "nbformat_minor": 5
}
