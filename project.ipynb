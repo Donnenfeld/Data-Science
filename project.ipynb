{
 "cells": [
  {
   "cell_type": "markdown",
   "id": "3591b410",
   "metadata": {},
   "source": [
    "__Succesful Free Apps__\n",
    "\n",
    "Appad is a fictional company that builds free apps and generates revenue by placing ads in their apps. \n",
    "We would like to help the strategists in Appad to decide which types of free apps are popular and worth their investment. \n",
    "let's go and find the most succesful free apps in Android PlayStore and IOS AppStore!"
   ]
  },
  {
   "cell_type": "code",
   "execution_count": 155,
   "id": "dfcf5195",
   "metadata": {},
   "outputs": [],
   "source": [
    "opened_file = open('googleplaystore.csv', encoding='utf8')\n",
    "from csv import reader\n",
    "read_file = reader(opened_file)\n",
    "playstore = list(read_file)\n",
    "opened_file = open('AppleStore.csv', encoding='utf8')\n",
    "read_file = reader(opened_file)\n",
    "applestore = list(read_file)"
   ]
  },
  {
   "cell_type": "markdown",
   "id": "2686a531",
   "metadata": {},
   "source": [
    "_Let's have a look at the two datasets and determine their respective rows and columns_"
   ]
  },
  {
   "cell_type": "code",
   "execution_count": 156,
   "id": "acc40fe1",
   "metadata": {},
   "outputs": [],
   "source": [
    "def explore_data(dataset, start, end, rows_and_columns=False):\n",
    "    dataset_slice = dataset[start:end]    \n",
    "    for row in dataset_slice:\n",
    "        print(row)\n",
    "        print('\\n')\n",
    "\n",
    "    if rows_and_columns:\n",
    "        print('Number of rows:', len(dataset))\n",
    "        print('Number of columns:', len(dataset[0]))\n",
    "    "
   ]
  },
  {
   "cell_type": "code",
   "execution_count": 157,
   "id": "f2f9db05",
   "metadata": {},
   "outputs": [
    {
     "name": "stdout",
     "output_type": "stream",
     "text": [
      "['App', 'Category', 'Rating', 'Reviews', 'Size', 'Installs', 'Type', 'Price', 'Content Rating', 'Genres', 'Last Updated', 'Current Ver', 'Android Ver']\n",
      "\n",
      "\n",
      "['Photo Editor & Candy Camera & Grid & ScrapBook', 'ART_AND_DESIGN', '4.1', '159', '19M', '10,000+', 'Free', '0', 'Everyone', 'Art & Design', 'January 7, 2018', '1.0.0', '4.0.3 and up']\n",
      "\n",
      "\n",
      "['Coloring book moana', 'ART_AND_DESIGN', '3.9', '967', '14M', '500,000+', 'Free', '0', 'Everyone', 'Art & Design;Pretend Play', 'January 15, 2018', '2.0.0', '4.0.3 and up']\n",
      "\n",
      "\n",
      "['U Launcher Lite – FREE Live Cool Themes, Hide Apps', 'ART_AND_DESIGN', '4.7', '87510', '8.7M', '5,000,000+', 'Free', '0', 'Everyone', 'Art & Design', 'August 1, 2018', '1.2.4', '4.0.3 and up']\n",
      "\n",
      "\n",
      "['Sketch - Draw & Paint', 'ART_AND_DESIGN', '4.5', '215644', '25M', '50,000,000+', 'Free', '0', 'Teen', 'Art & Design', 'June 8, 2018', 'Varies with device', '4.2 and up']\n",
      "\n",
      "\n",
      "Number of rows: 10842\n",
      "Number of columns: 13\n"
     ]
    }
   ],
   "source": [
    "explore_data(playstore, 0, 5, rows_and_columns=True)"
   ]
  },
  {
   "cell_type": "code",
   "execution_count": 158,
   "id": "378ffed2",
   "metadata": {
    "scrolled": true
   },
   "outputs": [
    {
     "name": "stdout",
     "output_type": "stream",
     "text": [
      "['id', 'track_name', 'size_bytes', 'currency', 'price', 'rating_count_tot', 'rating_count_ver', 'user_rating', 'user_rating_ver', 'ver', 'cont_rating', 'prime_genre', 'sup_devices.num', 'ipadSc_urls.num', 'lang.num', 'vpp_lic']\n",
      "\n",
      "\n",
      "['284882215', 'Facebook', '389879808', 'USD', '0.0', '2974676', '212', '3.5', '3.5', '95.0', '4+', 'Social Networking', '37', '1', '29', '1']\n",
      "\n",
      "\n",
      "['389801252', 'Instagram', '113954816', 'USD', '0.0', '2161558', '1289', '4.5', '4.0', '10.23', '12+', 'Photo & Video', '37', '0', '29', '1']\n",
      "\n",
      "\n",
      "['529479190', 'Clash of Clans', '116476928', 'USD', '0.0', '2130805', '579', '4.5', '4.5', '9.24.12', '9+', 'Games', '38', '5', '18', '1']\n",
      "\n",
      "\n",
      "['420009108', 'Temple Run', '65921024', 'USD', '0.0', '1724546', '3842', '4.5', '4.0', '1.6.2', '9+', 'Games', '40', '5', '1', '1']\n",
      "\n",
      "\n"
     ]
    }
   ],
   "source": [
    "explore_data(applestore, 0, 5)"
   ]
  },
  {
   "cell_type": "markdown",
   "id": "b3bfe0d6",
   "metadata": {},
   "source": [
    "At the discussion page we find an error at entry 10473 in playstore. Let's display the row and remove it if it's faulty.  "
   ]
  },
  {
   "cell_type": "code",
   "execution_count": 159,
   "id": "ddeeccb7",
   "metadata": {
    "scrolled": true
   },
   "outputs": [
    {
     "name": "stdout",
     "output_type": "stream",
     "text": [
      "['App', 'Category', 'Rating', 'Reviews', 'Size', 'Installs', 'Type', 'Price', 'Content Rating', 'Genres', 'Last Updated', 'Current Ver', 'Android Ver']\n",
      "['Life Made WI-Fi Touchscreen Photo Frame', '1.9', '19', '3.0M', '1,000+', 'Free', '0', 'Everyone', '', 'February 11, 2018', '1.0.19', '4.0 and up']\n",
      "10842\n"
     ]
    }
   ],
   "source": [
    "print(playstore[0])\n",
    "print(playstore[10473])\n",
    "print (len(playstore))"
   ]
  },
  {
   "cell_type": "code",
   "execution_count": 160,
   "id": "9d72dacb",
   "metadata": {},
   "outputs": [
    {
     "name": "stdout",
     "output_type": "stream",
     "text": [
      "10841\n"
     ]
    }
   ],
   "source": [
    "del (playstore[10473])\n",
    "print (len(playstore))"
   ]
  },
  {
   "cell_type": "markdown",
   "id": "9c5f5932",
   "metadata": {},
   "source": [
    "Let's see if the datasets have duplicate rows:\n"
   ]
  },
  {
   "cell_type": "code",
   "execution_count": 161,
   "id": "7608459d",
   "metadata": {},
   "outputs": [
    {
     "name": "stdout",
     "output_type": "stream",
     "text": [
      "1181\n",
      "['Quick PDF Scanner + OCR FREE', 'Box', 'Google My Business', 'ZOOM Cloud Meetings', 'join.me - Simple Meetings', 'Box', 'Zenefits', 'Google Ads', 'Google My Business', 'Slack', 'FreshBooks Classic', 'Insightly CRM', 'QuickBooks Accounting: Invoicing & Expenses', 'HipChat - Chat Built for Teams', 'Xero Accounting Software']\n"
     ]
    }
   ],
   "source": [
    "duplicate_apps = []\n",
    "unique_apps = []\n",
    "for app in playstore[1:]:\n",
    "    name = app[0]\n",
    "    if name in unique_apps:\n",
    "        duplicate_apps.append(name)\n",
    "    else:\n",
    "        unique_apps.append(name)\n",
    "print (len(duplicate_apps))\n",
    "print (duplicate_apps[:15])"
   ]
  },
  {
   "cell_type": "code",
   "execution_count": 162,
   "id": "a841e928",
   "metadata": {
    "scrolled": true
   },
   "outputs": [
    {
     "name": "stdout",
     "output_type": "stream",
     "text": [
      "['Box', 'BUSINESS', '4.2', '159872', 'Varies with device', '10,000,000+', 'Free', '0', 'Everyone', 'Business', 'July 31, 2018', 'Varies with device', 'Varies with device']\n",
      "['Box', 'BUSINESS', '4.2', '159872', 'Varies with device', '10,000,000+', 'Free', '0', 'Everyone', 'Business', 'July 31, 2018', 'Varies with device', 'Varies with device']\n",
      "['Box', 'BUSINESS', '4.2', '159872', 'Varies with device', '10,000,000+', 'Free', '0', 'Everyone', 'Business', 'July 31, 2018', 'Varies with device', 'Varies with device']\n"
     ]
    }
   ],
   "source": [
    "for app in playstore:\n",
    "    app_name = app[0]\n",
    "    if app_name == 'Box':\n",
    "        print (app)"
   ]
  },
  {
   "cell_type": "markdown",
   "id": "a121a36a",
   "metadata": {},
   "source": [
    "_We will remove duplicates and leave the ones with the highest number of reviews, which likely has the latest updated data._"
   ]
  },
  {
   "cell_type": "code",
   "execution_count": 163,
   "id": "7621215d",
   "metadata": {},
   "outputs": [],
   "source": [
    "reviews_max = {}\n",
    "for app in playstore[1:]:\n",
    "    app_name = app[0]\n",
    "    reviews = app[3]\n",
    "    if app_name in reviews_max and reviews > reviews_max[app_name]:\n",
    "        reviews_max[app_name] = reviews\n",
    "    elif app_name not in reviews_max:\n",
    "        reviews_max[app_name] = reviews\n",
    " "
   ]
  },
  {
   "cell_type": "markdown",
   "id": "f25f2eb1",
   "metadata": {},
   "source": [
    "_let's check if we reviews_max only contains unique apps:_\n"
   ]
  },
  {
   "cell_type": "code",
   "execution_count": 164,
   "id": "c477a557",
   "metadata": {},
   "outputs": [
    {
     "data": {
      "text/plain": [
       "True"
      ]
     },
     "execution_count": 164,
     "metadata": {},
     "output_type": "execute_result"
    }
   ],
   "source": [
    "len(reviews_max) == len(unique_apps)"
   ]
  },
  {
   "cell_type": "markdown",
   "id": "c90186a6",
   "metadata": {},
   "source": [
    "_let's remove the duplicate apps from playstore:_\n"
   ]
  },
  {
   "cell_type": "code",
   "execution_count": 165,
   "id": "3a80ab12",
   "metadata": {},
   "outputs": [
    {
     "data": {
      "text/plain": [
       "9659"
      ]
     },
     "execution_count": 165,
     "metadata": {},
     "output_type": "execute_result"
    }
   ],
   "source": [
    "playstore_clean = [] #this will be the final list\n",
    "already_added = [] #this is just to store duplicate names\n",
    "for app in playstore[1:]:\n",
    "    app_name = app[0]\n",
    "    reviews = app[3]\n",
    "    if reviews == reviews_max[app_name] and app_name not in already_added:\n",
    "        playstore_clean.append(app)\n",
    "        already_added.append(app_name)\n",
    "len(playstore_clean)        "
   ]
  },
  {
   "cell_type": "markdown",
   "id": "8e5facfd",
   "metadata": {},
   "source": [
    "_Let's remove all non-english apps. We will create a function that detects any app name with more than 3 non-english characters._"
   ]
  },
  {
   "cell_type": "code",
   "execution_count": 166,
   "id": "12807910",
   "metadata": {},
   "outputs": [
    {
     "data": {
      "text/plain": [
       "9533"
      ]
     },
     "execution_count": 166,
     "metadata": {},
     "output_type": "execute_result"
    }
   ],
   "source": [
    "def non_english(string):\n",
    "    for char in string:\n",
    "        characters = 0\n",
    "    if ord(char) > 127:\n",
    "            characters += 1\n",
    "            if characters > 3:\n",
    "                return True \n",
    "    else:\n",
    "            return False\n",
    "english_playstore = []        \n",
    "for app in playstore_clean:\n",
    "    app_name = app[0]\n",
    "    if non_english(app_name) == False:\n",
    "        english_playstore.append(app)\n",
    "len(english_playstore)       \n",
    "        "
   ]
  },
  {
   "cell_type": "markdown",
   "id": "b8edc906",
   "metadata": {},
   "source": [
    "_We will now isolate the free apps._\n"
   ]
  },
  {
   "cell_type": "code",
   "execution_count": 167,
   "id": "ec588335",
   "metadata": {},
   "outputs": [
    {
     "data": {
      "text/plain": [
       "8791"
      ]
     },
     "execution_count": 167,
     "metadata": {},
     "output_type": "execute_result"
    }
   ],
   "source": [
    "free_playstore = []\n",
    "for app in english_playstore:\n",
    "    price = app[6]\n",
    "    if price == 'Free':\n",
    "        free_playstore.append(app)\n",
    "len(free_playstore)  "
   ]
  },
  {
   "cell_type": "markdown",
   "id": "dbf827d7",
   "metadata": {},
   "source": [
    "_We will now determine the most popular genres among the apps._"
   ]
  },
  {
   "cell_type": "code",
   "execution_count": 168,
   "id": "7536e043",
   "metadata": {},
   "outputs": [
    {
     "name": "stdout",
     "output_type": "stream",
     "text": [
      "FAMILY : 1663\n",
      "GAME : 847\n",
      "TOOLS : 741\n",
      "BUSINESS : 406\n",
      "PRODUCTIVITY : 345\n",
      "LIFESTYLE : 343\n",
      "FINANCE : 326\n",
      "MEDICAL : 310\n",
      "SPORTS : 298\n",
      "PERSONALIZATION : 290\n",
      "COMMUNICATION : 285\n",
      "HEALTH_AND_FITNESS : 268\n",
      "PHOTOGRAPHY : 260\n",
      "NEWS_AND_MAGAZINES : 248\n",
      "SOCIAL : 234\n",
      "TRAVEL_AND_LOCAL : 206\n",
      "SHOPPING : 199\n",
      "BOOKS_AND_REFERENCE : 192\n",
      "DATING : 164\n",
      "VIDEO_PLAYERS : 158\n",
      "MAPS_AND_NAVIGATION : 124\n",
      "FOOD_AND_DRINK : 107\n",
      "EDUCATION : 104\n",
      "ENTERTAINMENT : 83\n",
      "AUTO_AND_VEHICLES : 82\n",
      "LIBRARIES_AND_DEMO : 79\n",
      "HOUSE_AND_HOME : 73\n",
      "WEATHER : 71\n",
      "EVENTS : 63\n",
      "ART_AND_DESIGN : 58\n",
      "PARENTING : 57\n",
      "COMICS : 54\n",
      "BEAUTY : 53\n"
     ]
    }
   ],
   "source": [
    "def freq_table(dataset, index):\n",
    "    freq_table = {}\n",
    "    \n",
    "    for row in dataset:\n",
    "        column = row[index]\n",
    "        if column in freq_table:\n",
    "            freq_table[column] += 1\n",
    "        else:\n",
    "            freq_table[column] = 1\n",
    "    return freq_table\n",
    "\n",
    "def display_freq_table(dataset, index):\n",
    "    table = freq_table(dataset, index)\n",
    "    table_display = []\n",
    "    for key in table:\n",
    "        key_val_as_tuple = (table[key], key)\n",
    "        table_display.append(key_val_as_tuple)\n",
    "\n",
    "    table_sorted = sorted(table_display, reverse = True)\n",
    "    for entry in table_sorted:\n",
    "        print(entry[1], ':', entry[0])\n",
    "        \n",
    "display_freq_table(free_playstore, 1)"
   ]
  },
  {
   "cell_type": "code",
   "execution_count": 169,
   "id": "bbe60d68",
   "metadata": {},
   "outputs": [
    {
     "name": "stdout",
     "output_type": "stream",
     "text": [
      "FAMILY : 50.3939\n",
      "GAME : 25.6667\n",
      "TOOLS : 22.4545\n",
      "BUSINESS : 12.303\n",
      "PRODUCTIVITY : 10.4545\n",
      "LIFESTYLE : 10.3939\n",
      "FINANCE : 9.8788\n",
      "MEDICAL : 9.3939\n",
      "SPORTS : 9.0303\n",
      "PERSONALIZATION : 8.7879\n",
      "COMMUNICATION : 8.6364\n",
      "HEALTH_AND_FITNESS : 8.1212\n",
      "PHOTOGRAPHY : 7.8788\n",
      "NEWS_AND_MAGAZINES : 7.5152\n",
      "SOCIAL : 7.0909\n",
      "TRAVEL_AND_LOCAL : 6.2424\n",
      "SHOPPING : 6.0303\n",
      "BOOKS_AND_REFERENCE : 5.8182\n",
      "DATING : 4.9697\n",
      "VIDEO_PLAYERS : 4.7879\n",
      "MAPS_AND_NAVIGATION : 3.7576\n",
      "FOOD_AND_DRINK : 3.2424\n",
      "EDUCATION : 3.1515\n",
      "ENTERTAINMENT : 2.5152\n",
      "AUTO_AND_VEHICLES : 2.4848\n",
      "LIBRARIES_AND_DEMO : 2.3939\n",
      "HOUSE_AND_HOME : 2.2121\n",
      "WEATHER : 2.1515\n",
      "EVENTS : 1.9091\n",
      "ART_AND_DESIGN : 1.7576\n",
      "PARENTING : 1.7273\n",
      "COMICS : 1.6364\n",
      "BEAUTY : 1.6061\n"
     ]
    }
   ],
   "source": [
    "def percent_table(dataset, index):\n",
    "    percent_table = {}\n",
    "    \n",
    "    for row in dataset:\n",
    "        column = row[index]\n",
    "        if column in percent_table:\n",
    "            percent_table[column] += 1\n",
    "        else:\n",
    "            percent_table[column] = 1\n",
    "    for column in percent_table:\n",
    "            percent_table[column] = round(percent_table[column] / len(percent_table), 4)\n",
    "    return percent_table\n",
    "\n",
    "def display_percent_table(dataset, index):\n",
    "    table = percent_table(dataset, index)\n",
    "    table_display = []\n",
    "    for key in table:\n",
    "        key_val_as_tuple = (table[key], key)\n",
    "        table_display.append(key_val_as_tuple)\n",
    "\n",
    "    table_sorted = sorted(table_display, reverse = True)\n",
    "    for entry in table_sorted:\n",
    "        print(entry[1], ':', entry[0])\n",
    "        \n",
    "display_percent_table(free_playstore, 1)"
   ]
  },
  {
   "cell_type": "code",
   "execution_count": 192,
   "id": "ff7f3705",
   "metadata": {},
   "outputs": [
    {
     "name": "stdout",
     "output_type": "stream",
     "text": [
      "{'ART_AND_DESIGN': 58, 'AUTO_AND_VEHICLES': 82, 'BEAUTY': 53, 'BOOKS_AND_REFERENCE': 192, 'BUSINESS': 406, 'COMICS': 54, 'COMMUNICATION': 285, 'DATING': 164, 'EDUCATION': 104, 'ENTERTAINMENT': 83, 'EVENTS': 63, 'FINANCE': 326, 'FOOD_AND_DRINK': 107, 'HEALTH_AND_FITNESS': 268, 'HOUSE_AND_HOME': 73, 'LIBRARIES_AND_DEMO': 79, 'LIFESTYLE': 343, 'GAME': 847, 'FAMILY': 1663, 'MEDICAL': 310, 'SOCIAL': 234, 'SHOPPING': 199, 'PHOTOGRAPHY': 260, 'SPORTS': 298, 'TRAVEL_AND_LOCAL': 206, 'TOOLS': 741, 'PERSONALIZATION': 290, 'PRODUCTIVITY': 345, 'PARENTING': 57, 'WEATHER': 71, 'VIDEO_PLAYERS': 158, 'NEWS_AND_MAGAZINES': 248, 'MAPS_AND_NAVIGATION': 124}\n",
      "LIFESTYLE\n",
      "1952105.1724137932\n",
      "LIFESTYLE\n",
      "647317.8170731707\n",
      "LIFESTYLE\n",
      "513151.88679245283\n",
      "LIFESTYLE\n",
      "8676746.145833334\n",
      "LIFESTYLE\n",
      "1714167.4630541871\n",
      "LIFESTYLE\n",
      "830947.2222222222\n",
      "LIFESTYLE\n",
      "38511986.67017544\n",
      "LIFESTYLE\n",
      "856187.5426829269\n",
      "LIFESTYLE\n",
      "1820673.076923077\n",
      "LIFESTYLE\n",
      "11788674.69879518\n",
      "LIFESTYLE\n",
      "253542.22222222222\n",
      "LIFESTYLE\n",
      "1379334.7607361963\n",
      "LIFESTYLE\n",
      "1968585.523364486\n",
      "LIFESTYLE\n",
      "4192305.604477612\n",
      "LIFESTYLE\n",
      "1331540.5616438356\n",
      "LIFESTYLE\n",
      "649314.0506329114\n",
      "LIFESTYLE\n",
      "1417155.4781341108\n",
      "LIFESTYLE\n",
      "15240571.959858324\n",
      "LIFESTYLE\n",
      "3670304.0829825616\n",
      "LIFESTYLE\n",
      "118007.56129032258\n",
      "LIFESTYLE\n",
      "23431029.495726496\n",
      "LIFESTYLE\n",
      "7036877.311557789\n",
      "LIFESTYLE\n",
      "17873918.519230768\n",
      "LIFESTYLE\n",
      "3507485.463087248\n",
      "LIFESTYLE\n",
      "14027689.737864077\n",
      "LIFESTYLE\n",
      "10713214.539811065\n",
      "LIFESTYLE\n",
      "5273015.131034483\n",
      "LIFESTYLE\n",
      "16787331.344927534\n",
      "LIFESTYLE\n",
      "551947.5438596491\n",
      "LIFESTYLE\n",
      "5074486.197183099\n",
      "LIFESTYLE\n",
      "24884314.683544304\n",
      "LIFESTYLE\n",
      "9545150.241935484\n",
      "LIFESTYLE\n",
      "4057744.193548387\n"
     ]
    }
   ],
   "source": [
    "categories = freq_table(free_playstore, 1)\n",
    "print(categories)\n",
    "\n",
    "for category in categories:\n",
    "    total = 0\n",
    "    len_category = 0\n",
    "    for app in free_playstore:\n",
    "        genre = app[1]\n",
    "        if genre == category:\n",
    "            installs = app[5]\n",
    "            installs = installs.replace('+', '')\n",
    "            installs = installs.replace(',', '')\n",
    "            total += float(installs)\n",
    "            len_category += 1\n",
    "            avg_installs = total/len_category\n",
    "    print (genre)\n",
    "    print (avg_installs)\n",
    "\n",
    "  "
   ]
  },
  {
   "cell_type": "code",
   "execution_count": 171,
   "id": "1d40c82e",
   "metadata": {},
   "outputs": [
    {
     "data": {
      "text/plain": [
       "{'ART_AND_DESIGN': 58,\n",
       " 'AUTO_AND_VEHICLES': 82,\n",
       " 'BEAUTY': 53,\n",
       " 'BOOKS_AND_REFERENCE': 192,\n",
       " 'BUSINESS': 406,\n",
       " 'COMICS': 54,\n",
       " 'COMMUNICATION': 285,\n",
       " 'DATING': 164,\n",
       " 'EDUCATION': 104,\n",
       " 'ENTERTAINMENT': 83,\n",
       " 'EVENTS': 63,\n",
       " 'FINANCE': 326,\n",
       " 'FOOD_AND_DRINK': 107,\n",
       " 'HEALTH_AND_FITNESS': 268,\n",
       " 'HOUSE_AND_HOME': 73,\n",
       " 'LIBRARIES_AND_DEMO': 79,\n",
       " 'LIFESTYLE': 343,\n",
       " 'GAME': 847,\n",
       " 'FAMILY': 1663,\n",
       " 'MEDICAL': 310,\n",
       " 'SOCIAL': 234,\n",
       " 'SHOPPING': 199,\n",
       " 'PHOTOGRAPHY': 260,\n",
       " 'SPORTS': 298,\n",
       " 'TRAVEL_AND_LOCAL': 206,\n",
       " 'TOOLS': 741,\n",
       " 'PERSONALIZATION': 290,\n",
       " 'PRODUCTIVITY': 345,\n",
       " 'PARENTING': 57,\n",
       " 'WEATHER': 71,\n",
       " 'VIDEO_PLAYERS': 158,\n",
       " 'NEWS_AND_MAGAZINES': 248,\n",
       " 'MAPS_AND_NAVIGATION': 124}"
      ]
     },
     "execution_count": 171,
     "metadata": {},
     "output_type": "execute_result"
    }
   ],
   "source": [
    "freq_table(free_playstore, 1)"
   ]
  }
 ],
 "metadata": {
  "kernelspec": {
   "display_name": "Python 3 (ipykernel)",
   "language": "python",
   "name": "python3"
  },
  "language_info": {
   "codemirror_mode": {
    "name": "ipython",
    "version": 3
   },
   "file_extension": ".py",
   "mimetype": "text/x-python",
   "name": "python",
   "nbconvert_exporter": "python",
   "pygments_lexer": "ipython3",
   "version": "3.11.5"
  }
 },
 "nbformat": 4,
 "nbformat_minor": 5
}
